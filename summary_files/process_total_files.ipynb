{
 "cells": [
  {
   "cell_type": "code",
   "execution_count": null,
   "metadata": {},
   "outputs": [],
   "source": [
    "import pandas as pd\n",
    "import numpy as np\n",
    "import matplotlib.pyplot as plt"
   ]
  },
  {
   "cell_type": "markdown",
   "metadata": {},
   "source": [
    "# Notes\n",
    "### Import the notes file"
   ]
  },
  {
   "cell_type": "code",
   "execution_count": null,
   "metadata": {
    "scrolled": true
   },
   "outputs": [],
   "source": [
    "df = pd.read_csv(\"./notes_total.csv\", names=[\"note\", \"count\", \"title\"], sep=\";\")\n",
    "df.sort_values(\"count\", ascending=False)"
   ]
  },
  {
   "cell_type": "markdown",
   "metadata": {},
   "source": [
    "### Create the plots"
   ]
  },
  {
   "cell_type": "code",
   "execution_count": null,
   "metadata": {
    "scrolled": true
   },
   "outputs": [],
   "source": [
    "grouped = df.groupby(\"note\").sum().sort_values(\"count\", ascending=False).reset_index()\n",
    "natural = grouped[\"note\"].isin(['A', 'B', 'C', 'D', 'E', 'F', 'G'])\n",
    "sharp = grouped[\"note\"].isin(['A#', 'B#', 'C#', 'D#', 'E#', 'F#', 'G#'])\n",
    "flat = grouped[\"note\"].isin(['Ab', 'Bb', 'Cb', 'Db', 'Eb', 'Fb', 'Gb'])\n",
    "rest = ~natural & ~sharp & ~flat\n",
    "\n",
    "\n",
    "plt.figure(figsize=(15,40))\n",
    "\n",
    "plt.subplot(411)\n",
    "plt.bar(x=grouped[natural][\"note\"], height = grouped[natural][\"count\"])\n",
    "plt.title('Natural Notes')\n",
    "\n",
    "plt.subplot(412)\n",
    "plt.bar(x=grouped[sharp][\"note\"], height = grouped[sharp][\"count\"])\n",
    "plt.title('Sharp Notes')\n",
    "\n",
    "plt.subplot(413)\n",
    "plt.bar(x=grouped[flat][\"note\"], height = grouped[flat][\"count\"])\n",
    "plt.title('Flat Notes')\n",
    "\n",
    "plt.subplot(414)\n",
    "plt.bar(x=grouped[rest][\"note\"], height = grouped[rest][\"count\"])\n",
    "plt.title('Other Notes')\n",
    "\n",
    "plt.show()"
   ]
  },
  {
   "cell_type": "markdown",
   "metadata": {},
   "source": [
    "# Chords\n",
    "### Import the chords file"
   ]
  },
  {
   "cell_type": "code",
   "execution_count": null,
   "metadata": {
    "scrolled": true
   },
   "outputs": [],
   "source": [
    "df = pd.read_csv(\"./chords_total.csv\", names=[\"comb\", \"count\", \"title\"], sep=\";\")\n",
    "df.sort_values(\"count\", ascending=False)"
   ]
  },
  {
   "cell_type": "markdown",
   "metadata": {},
   "source": [
    "### Group by chord"
   ]
  },
  {
   "cell_type": "code",
   "execution_count": null,
   "metadata": {
    "scrolled": true
   },
   "outputs": [],
   "source": [
    "gb = df.groupby(\"comb\").sum()[\"count\"].sort_values(ascending=False).reset_index()\n",
    "gb"
   ]
  },
  {
   "cell_type": "markdown",
   "metadata": {},
   "source": [
    "### Fit a curve to the data\n",
    "\n",
    "Fit a Hurwitz zeta function to the data, \n",
    "\n",
    "\\begin{equation*}\n",
    "f(k,q,s) = \\frac{C}{(k+q)^s}\n",
    "\\end{equation*}\n",
    "\n",
    "according to Zipf–Mandelbrot law"
   ]
  },
  {
   "cell_type": "code",
   "execution_count": null,
   "metadata": {},
   "outputs": [],
   "source": [
    "from scipy.optimize import curve_fit\n",
    "\n",
    "def func(x, a, b, c):\n",
    "    return a /(x + b)**c\n",
    "\n",
    "\n",
    "xdata = np.arange(1, gb.shape[0]+1)\n",
    "ydata = gb[\"count\"]\n",
    "\n",
    "popt, pcov = curve_fit(func, xdata, ydata)\n",
    "gb[\"fit\"] = func(xdata, *popt)"
   ]
  },
  {
   "cell_type": "markdown",
   "metadata": {},
   "source": [
    "### Create the plot"
   ]
  },
  {
   "cell_type": "code",
   "execution_count": null,
   "metadata": {},
   "outputs": [],
   "source": [
    "fig, ax = plt.subplots(figsize=(15,10))\n",
    "line1 = ax.scatter(xdata, ydata, label='Total Duration', c=\"tomato\", linewidth=1.5)\n",
    "ax.tick_params(direction=\"in\", which=\"both\")\n",
    "ax.set_yscale('log')\n",
    "ax.set_xscale('log')\n",
    "line2 = ax.plot(xdata, gb[\"fit\"], dashes=[3, 3, 10, 3], label='Fit', c=\"black\", linewidth=1.5)\n",
    "\n",
    "ax.legend()"
   ]
  },
  {
   "cell_type": "markdown",
   "metadata": {},
   "source": [
    "# Clusters\n",
    "### Import the files and merge them into one dataframe"
   ]
  },
  {
   "cell_type": "code",
   "execution_count": null,
   "metadata": {
    "scrolled": true
   },
   "outputs": [],
   "source": [
    "df = pd.read_csv(\"./strings_total.csv\", names=[\"title\", \"string\"], sep=\";\")\n",
    "df[\"num\"] = df.title.apply(lambda x: x.split(\"_\")[0][3:])\n",
    "\n",
    "keys = pd.read_csv(\"./keys.csv\", names=[\"num\", \"key\"], sep=\",\")\n",
    "df = df.merge(keys, on=\"num\")\n",
    "documents = df.string"
   ]
  },
  {
   "cell_type": "markdown",
   "metadata": {},
   "source": [
    "### Train several models to determine the optimal k for k-means clustering"
   ]
  },
  {
   "cell_type": "code",
   "execution_count": null,
   "metadata": {},
   "outputs": [],
   "source": [
    "from sklearn.feature_extraction.text import TfidfVectorizer\n",
    "from sklearn.cluster import KMeans\n",
    "from sklearn.metrics import adjusted_rand_score\n",
    "from sklearn.metrics import silhouette_score\n",
    "\n",
    "\n",
    "vectorizer = TfidfVectorizer(sublinear_tf=True, token_pattern=r\"(?u)\\S\\S+\", lowercase=False)\n",
    "X = vectorizer.fit_transform(documents)\n",
    "\n",
    "sil = []\n",
    "distances = []\n",
    "K = range(2,20)\n",
    "for k in K:\n",
    "    km = KMeans(n_clusters=k)\n",
    "    km = km.fit(X)\n",
    "    labels = km.labels_\n",
    "    distances.append(km.inertia_)\n",
    "    sil.append(silhouette_score(X, labels, metric = 'euclidean'))\n"
   ]
  },
  {
   "cell_type": "markdown",
   "metadata": {},
   "source": [
    "### Use elbow and silhouette methods to determine optimal k\n",
    "\n",
    "Looking at the plots, there is no clear elbow, but we can see the slope changing at $k=8$. The silhouette plot further confirms this"
   ]
  },
  {
   "cell_type": "code",
   "execution_count": null,
   "metadata": {},
   "outputs": [],
   "source": [
    "plt.plot(K, distances, 'bo-')\n",
    "plt.tick_params(direction=\"in\")\n",
    "plt.xlabel('k')\n",
    "plt.ylabel('Sum of square distances')\n",
    "plt.title('Elbow Method')\n",
    "plt.show()\n",
    "\n",
    "plt.plot(K, sil, 'bo-')\n",
    "plt.tick_params(direction=\"in\")\n",
    "plt.xlabel('k')\n",
    "plt.ylabel('Silhouette Score')\n",
    "plt.title('Silhouette Method')\n",
    "plt.show()"
   ]
  },
  {
   "cell_type": "markdown",
   "metadata": {},
   "source": [
    "### Get clusters for $k=8$"
   ]
  },
  {
   "cell_type": "code",
   "execution_count": null,
   "metadata": {},
   "outputs": [],
   "source": [
    "true_k = 8\n",
    "model = KMeans(n_clusters=true_k, init='k-means++', max_iter=300, n_init=20)\n",
    "model.fit(X)\n",
    "\n",
    "\n",
    "prediction = model.predict(X)\n",
    "df[\"cluster\"] = prediction\n",
    "print(df[\"cluster\"].value_counts())"
   ]
  },
  {
   "cell_type": "markdown",
   "metadata": {},
   "source": [
    "### Get the top terms of each cluster"
   ]
  },
  {
   "cell_type": "code",
   "execution_count": null,
   "metadata": {
    "scrolled": true
   },
   "outputs": [],
   "source": [
    "print(\"Top terms per cluster:\")\n",
    "order_centroids = model.cluster_centers_.argsort()[:, ::-1]\n",
    "terms = vectorizer.get_feature_names()\n",
    "for i in range(true_k):\n",
    "    print(\"Cluster %d:\" % i)\n",
    "    print(df[df[\"cluster\"]==i][\"key\"].value_counts())\n",
    "    for ind in order_centroids[i, :15]:\n",
    "        print(' %s' % terms[ind])"
   ]
  },
  {
   "cell_type": "code",
   "execution_count": null,
   "metadata": {},
   "outputs": [],
   "source": []
  }
 ],
 "metadata": {
  "kernelspec": {
   "display_name": "Python 3",
   "language": "python",
   "name": "python3"
  },
  "language_info": {
   "codemirror_mode": {
    "name": "ipython",
    "version": 3
   },
   "file_extension": ".py",
   "mimetype": "text/x-python",
   "name": "python",
   "nbconvert_exporter": "python",
   "pygments_lexer": "ipython3",
   "version": "3.7.4"
  }
 },
 "nbformat": 4,
 "nbformat_minor": 2
}
